{
 "cells": [
  {
   "cell_type": "code",
   "execution_count": null,
   "metadata": {},
   "outputs": [],
   "source": [
    "import pandas as pd\n",
    "import matplotlib.pyplot as plt\n",
    "\n",
    "from src.black_scholes import CallPut, bs_price\n",
    "from src.replication import ReplicatingPortfolio, VolatilityMeasure"
   ]
  },
  {
   "cell_type": "code",
   "execution_count": null,
   "metadata": {},
   "outputs": [],
   "source": [
    "# Setup the experiment constants \n",
    "\n",
    "n_sims = 2**8            # Number of simulations\n",
    "S0 = 100                  # Initial stock price\n",
    "r = 0.02                 # Risk free rate\n",
    "sigma_a = 0.35           # Actual Volatility\n",
    "sigma_i = 0.2            # Implied Volatility\n",
    "T = 1                    # Time to maturity\n",
    "K = 100                  # Strike price\n",
    "call_put = CallPut.CALL  # Option type\n",
    "k = 8                    # Used to calulate the number of steps in the simulation\n",
    "\n",
    "bs_prc_a = bs_price(S0, K, r, sigma_a, T, call_put) # Black-Scholes price using actual volatility\n",
    "bs_prc_i = bs_price(S0, K, r, sigma_i, T, call_put) # Black-Scholes price using implied volatility\n",
    "\n",
    "theoretical_pnl = bs_prc_a - bs_prc_i  # Theoretical PNL if hedging with the actual volatility"
   ]
  },
  {
   "cell_type": "code",
   "execution_count": null,
   "metadata": {},
   "outputs": [],
   "source": [
    "# Run a number of different path projections for the evolution of the underlying\n",
    "replicating_portfolio = ReplicatingPortfolio.from_monte_carlo(\n",
    "    T=T, \n",
    "    k=k, \n",
    "    S0=S0, \n",
    "    sigma_a=sigma_a, \n",
    "    sigma_i=sigma_i, \n",
    "    r=r, \n",
    "    K=K,\n",
    "    n_sims=n_sims,\n",
    "    call_put=call_put\n",
    ")"
   ]
  },
  {
   "cell_type": "code",
   "execution_count": null,
   "metadata": {},
   "outputs": [],
   "source": [
    "\n",
    "# Calculate the PNL if the the options is hedged using actual volatility\n",
    "actual_portfolio = replicating_portfolio.portfolio(VolatilityMeasure.ACTUAL)\n",
    "actual_pnl = replicating_portfolio.calculate_pnl(actual_portfolio)\n",
    "print(f\"Actual PNL. Mean: {actual_pnl['PnL'][:, -1].mean()}, STD: {actual_pnl['PnL'][:, -1].std()}\")"
   ]
  },
  {
   "cell_type": "code",
   "execution_count": null,
   "metadata": {},
   "outputs": [],
   "source": [
    "# Calculate the PNL if the the options is hedged using implied volatility\n",
    "implied_portfolio = replicating_portfolio.portfolio(VolatilityMeasure.IMPLIED)\n",
    "implied_pnl = replicating_portfolio.calculate_pnl(implied_portfolio)\n",
    "print(f\"Implied PNL. Mean: {implied_pnl['PnL'][:, -1].mean()}, STD: {implied_pnl['PnL'][:, -1].std()}\")"
   ]
  },
  {
   "cell_type": "code",
   "execution_count": null,
   "metadata": {},
   "outputs": [],
   "source": [
    "df = pd.DataFrame(implied_pnl['PnL'].T[:, :20])\n",
    "plt.plot(df)\n",
    "plt.xlabel('Time')\n",
    "plt.ylabel('Mark-to-market PNL')\n",
    "plt.show()"
   ]
  },
  {
   "cell_type": "code",
   "execution_count": null,
   "metadata": {},
   "outputs": [],
   "source": [
    "df = pd.DataFrame(actual_pnl['PnL'].T[:, :20])\n",
    "plt.plot(df)\n",
    "plt.axhline(y=theoretical_pnl, color='black', linestyle='--', label='Actual Hedging Theoretical PnL')\n",
    "plt.legend()\n",
    "plt.ylabel('Mark-to-market PNL')\n",
    "plt.show()"
   ]
  },
  {
   "cell_type": "code",
   "execution_count": null,
   "metadata": {},
   "outputs": [],
   "source": [
    "import matplotlib.pyplot as plt\n",
    "\n",
    "# Get the final values from the actual PnL\n",
    "final_values_actual = actual_pnl['PnL'][:, -1]\n",
    "\n",
    "# Get the final values from the implied PnL\n",
    "final_values_implied = implied_pnl['PnL'][:, -1]\n",
    "\n",
    "# Plot the distribution of final values\n",
    "plt.hist(final_values_actual, bins=20, alpha=0.5, label='Actual Volatility')\n",
    "plt.hist(final_values_implied, bins=20, alpha=0.5, label='Implied Volatility')\n",
    "\n",
    "plt.axvline(x=theoretical_pnl, color='black', linestyle='--', label='Actual Hedging Theroetical PnL')\n",
    "plt.xlabel('PNL')\n",
    "plt.ylabel('Frequency')\n",
    "plt.legend()\n",
    "plt.show()"
   ]
  },
  {
   "cell_type": "code",
   "execution_count": null,
   "metadata": {},
   "outputs": [],
   "source": [
    "\n",
    "spot = pd.DataFrame(actual_pnl['S'].T[:, 6])\n",
    "gamma = pd.DataFrame(replicating_portfolio.bs_gamma_i.T[:, 6])\n",
    "fig, ax1 = plt.subplots()\n",
    "\n",
    "# Plot the daily pnl on the primary axis\n",
    "ax1.plot(spot, color='blue')\n",
    "ax1.set_xlabel('Time')\n",
    "ax1.set_ylabel('S', color='blue')\n",
    "\n",
    "# Create a secondary axis and plot the gamma on it\n",
    "ax2 = ax1.twinx()\n",
    "ax2.plot(gamma, color='red')\n",
    "ax2.set_ylabel('Gamma', color='red')\n",
    "\n",
    "plt.show()"
   ]
  },
  {
   "cell_type": "code",
   "execution_count": null,
   "metadata": {},
   "outputs": [],
   "source": [
    "daily_pnl = pd.DataFrame(actual_pnl['PnL'].T[:, 6]).diff()\n",
    "gamma = pd.DataFrame(replicating_portfolio.bs_gamma_i.T[:, 6])\n",
    "fig, ax1 = plt.subplots()\n",
    "\n",
    "# Plot the daily pnl on the primary axis\n",
    "ax1.plot(daily_pnl, color='blue')\n",
    "ax1.set_xlabel('Time')\n",
    "ax1.set_ylabel('Mark-to-market PNL', color='blue')\n",
    "\n",
    "# Create a secondary axis and plot the gamma on it\n",
    "ax2 = ax1.twinx()\n",
    "ax2.plot(gamma, color='red')\n",
    "ax2.set_ylabel('Gamma', color='red')\n",
    "\n",
    "plt.show()"
   ]
  },
  {
   "cell_type": "code",
   "execution_count": null,
   "metadata": {},
   "outputs": [],
   "source": [
    "\n",
    "spot = pd.DataFrame(actual_pnl['S'].T[:, 50])\n",
    "gamma = pd.DataFrame(replicating_portfolio.bs_gamma_i.T[:, 50])\n",
    "fig, ax1 = plt.subplots()\n",
    "\n",
    "# Plot the daily pnl on the primary axis\n",
    "ax1.plot(spot, color='blue')\n",
    "ax1.set_xlabel('Time')\n",
    "ax1.set_ylabel('Stock Price', color='blue')\n",
    "\n",
    "# Create a secondary axis and plot the gamma on it\n",
    "ax2 = ax1.twinx()\n",
    "ax2.plot(gamma, color='red')\n",
    "ax2.set_ylabel('Gamma', color='red')\n",
    "\n",
    "plt.show()"
   ]
  },
  {
   "cell_type": "code",
   "execution_count": null,
   "metadata": {},
   "outputs": [],
   "source": [
    "daily_pnl = pd.DataFrame(actual_pnl['PnL'].T[:, 50]).diff()\n",
    "gamma = pd.DataFrame(replicating_portfolio.bs_gamma_i.T[:, 50])\n",
    "fig, ax1 = plt.subplots()\n",
    "\n",
    "# Plot the daily pnl on the primary axis\n",
    "ax1.plot(daily_pnl.rolling(5).mean(), color='blue')\n",
    "ax1.set_xlabel('Time')\n",
    "ax1.set_ylabel('Daily PNL (5 day rolling mean)', color='blue')\n",
    "\n",
    "# Create a secondary axis and plot the gamma on it\n",
    "ax2 = ax1.twinx()\n",
    "ax2.plot(gamma, color='red')\n",
    "ax2.set_ylabel('Gamma', color='red')\n",
    "\n",
    "plt.show()"
   ]
  }
 ],
 "metadata": {
  "kernelspec": {
   "display_name": ".venv",
   "language": "python",
   "name": "python3"
  },
  "language_info": {
   "codemirror_mode": {
    "name": "ipython",
    "version": 3
   },
   "file_extension": ".py",
   "mimetype": "text/x-python",
   "name": "python",
   "nbconvert_exporter": "python",
   "pygments_lexer": "ipython3",
   "version": "3.8.2"
  }
 },
 "nbformat": 4,
 "nbformat_minor": 2
}
