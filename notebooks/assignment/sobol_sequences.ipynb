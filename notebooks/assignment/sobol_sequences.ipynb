{
 "cells": [
  {
   "cell_type": "code",
   "execution_count": null,
   "metadata": {},
   "outputs": [],
   "source": [
    "import numpy as np\n",
    "\n",
    "import matplotlib.pyplot as plt\n",
    "\n",
    "from scipy.stats import qmc"
   ]
  },
  {
   "cell_type": "code",
   "execution_count": null,
   "metadata": {},
   "outputs": [],
   "source": [
    "# Generate random numbers in 2D space\n",
    "random_numbers = np.random.rand(256, 256)\n",
    "\n",
    "# Generate a sobol sequnce in 2D space\n",
    "sampler = qmc.Sobol(d=256, scramble=False)\n",
    "points = sampler.random_base2(m=8)\n",
    "\n",
    "# Plot \n",
    "fig, axes = plt.subplots(1, 2, figsize=(12, 6))\n",
    "\n",
    "# Plot the first column of random_numbers\n",
    "axes[0].scatter(random_numbers[:, 0], random_numbers[:, 1], color='red')\n",
    "axes[0].set_title('Random')\n",
    "\n",
    "# Plot the second column of random_numbers\n",
    "axes[1].scatter(points[:, 0], points[:, 2], color='blue')\n",
    "axes[1].set_title('Sobol')\n",
    "\n",
    "plt.tight_layout()\n",
    "plt.show()"
   ]
  }
 ],
 "metadata": {
  "kernelspec": {
   "display_name": ".venv",
   "language": "python",
   "name": "python3"
  },
  "language_info": {
   "codemirror_mode": {
    "name": "ipython",
    "version": 3
   },
   "file_extension": ".py",
   "mimetype": "text/x-python",
   "name": "python",
   "nbconvert_exporter": "python",
   "pygments_lexer": "ipython3",
   "version": "3.8.2"
  }
 },
 "nbformat": 4,
 "nbformat_minor": 2
}
