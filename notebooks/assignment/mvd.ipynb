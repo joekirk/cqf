{
 "cells": [
  {
   "cell_type": "code",
   "execution_count": null,
   "metadata": {},
   "outputs": [],
   "source": [
    "import numpy as np\n",
    "import pandas as pd\n",
    "\n",
    "from collections import defaultdict\n",
    "from datetime import datetime as dt\n",
    "from sklearn.metrics import mean_squared_error, r2_score\n",
    "\n",
    "from src.minimum_variance_delta import MinimumVarianceDelta, MinMax\n",
    "from src.black_scholes import CallPut\n",
    "\n",
    "import matplotlib.pyplot as plt"
   ]
  },
  {
   "cell_type": "code",
   "execution_count": null,
   "metadata": {},
   "outputs": [],
   "source": [
    "# Lets first do the analysis over a single delta bucket and see how the model performs - Call option ATM\n",
    "start_date = dt(2023, 1, 1)\n",
    "end_date = dt(2023, 12, 31)\n",
    "\n",
    "# Days to expiry buckets\n",
    "# 15  -  45 days => 1 Month\n",
    "# 65  - 105 days => 3 Months\n",
    "# 165 - 195 days => 6 Months\n",
    "# 240 - 300 days => 9 Months\n",
    "# 335 - 395 days => 12 Months\n",
    "term_structure = {\n",
    "    '1M': MinMax(30, 45),\n",
    "    '3M': MinMax(45, 125),\n",
    "    '6M': MinMax(125, 225),\n",
    "    '9M': MinMax(225, 325),\n",
    "    '12M': MinMax(325, 395),\n",
    "}\n",
    "\n",
    "# Call Delta buckets\n",
    "call_delta_structure = {\n",
    "    '30': MinMax(0.25, 0.35),\n",
    "    '40': MinMax(0.35, 0.45),\n",
    "    '50': MinMax(0.45, 0.55),\n",
    "}\n"
   ]
  },
  {
   "cell_type": "code",
   "execution_count": null,
   "metadata": {},
   "outputs": [],
   "source": [
    "# Lets first do the analysis over a single delta bucket and see how the model performs \n",
    "#   - Call option OTM (35 - 45 delta)\n",
    "#   - 15 day rolling estimation\n",
    "#   - 45 - 125 days to expiry\n",
    "\n",
    "mvd = MinimumVarianceDelta(\n",
    "    min_delta=0.35, \n",
    "    max_delta=0.45, \n",
    "    min_dte=45, \n",
    "    max_dte=125, \n",
    "    call_put=CallPut.CALL, \n",
    "    start_date=start_date, \n",
    "    end_date=end_date\n",
    ")\n",
    "coef = mvd.fit(rolling_window_size=15, fit_intercept=False)\n",
    "df = mvd.results_df(coefficients=coef)"
   ]
  },
  {
   "cell_type": "code",
   "execution_count": null,
   "metadata": {},
   "outputs": [],
   "source": [
    "# Plot the parameters a, b and c through time\n",
    "df['minus b'] = df['b'] * -1\n",
    "df[['QUOTE_DATE', 'a', 'minus b', 'c']].plot(x='QUOTE_DATE', figsize=(15, 5))"
   ]
  },
  {
   "cell_type": "code",
   "execution_count": null,
   "metadata": {},
   "outputs": [],
   "source": [
    "# Run the model over all expiries and OTM call delta buckets we've specified\n",
    "results = defaultdict(lambda: defaultdict(dict))\n",
    "for ts, (min_dte, max_dte) in term_structure.items():\n",
    "    for bucket, (min_delta, max_delta) in call_delta_structure.items():\n",
    "        mvd = MinimumVarianceDelta(\n",
    "            min_delta=min_delta, \n",
    "            max_delta=max_delta, \n",
    "            min_dte=min_dte, \n",
    "            max_dte=max_dte, \n",
    "            call_put=CallPut.CALL, \n",
    "            start_date=start_date, \n",
    "            end_date=end_date\n",
    "        )\n",
    "        coef = mvd.fit(rolling_window_size=None, fit_intercept=False)\n",
    "        df = mvd.results_df(coefficients=coef)\n",
    "        results[ts][bucket] = df\n"
   ]
  },
  {
   "cell_type": "code",
   "execution_count": null,
   "metadata": {},
   "outputs": [],
   "source": [
    "# Plot Minimum Variance Delta - Black Scholes Delta for each term structure and delta bucket\n",
    "fig, ax = plt.subplots(1, 3, figsize=(15, 5))\n",
    "for i, delta in enumerate(call_delta_structure.keys()):\n",
    "    for ts, df in results.items():\n",
    "        df = df[delta]\n",
    "        df['delta_bin'] = pd.cut(df['DELTA'], bins=100)\n",
    "        df = df.groupby('delta_bin').agg({'MVD-BS': 'mean'})\n",
    "        df = df.rename(columns={'MVD-BS': ts})\n",
    "        df.index = df.index.map(lambda x: x.left)\n",
    "        df.index.name = f'{delta} Delta'\n",
    "        df.plot(ax=ax[i], label=ts)\n",
    "plt.legend()\n",
    "plt.show()"
   ]
  },
  {
   "cell_type": "code",
   "execution_count": null,
   "metadata": {},
   "outputs": [],
   "source": [
    "# Plot expected change in implied volatility for each term structure and delta bucket\n",
    "ig, ax = plt.subplots(1, 3, figsize=(15, 5))\n",
    "for i, delta in enumerate(call_delta_structure.keys()):\n",
    "    for ts, df in results.items():\n",
    "        df = df[delta]\n",
    "        df['delta_bin'] = pd.cut(df['DELTA'], bins=100)\n",
    "        df = df.groupby('delta_bin').agg({'EIV': 'mean'})\n",
    "        df = df.rename(columns={'EIV': ts})\n",
    "        df.index = df.index.map(lambda x: x.left)\n",
    "        df.index.name = f'{delta} Delta'\n",
    "        df.plot(ax=ax[i], label=ts)\n",
    "plt.legend()\n",
    "plt.show()"
   ]
  },
  {
   "cell_type": "code",
   "execution_count": null,
   "metadata": {},
   "outputs": [],
   "source": [
    "# Calculate some basic statistics\n",
    "#   - Gain\n",
    "#   - R2\n",
    "#   - RMSE\n",
    "def get_results_table(metric_fn, results):\n",
    "    df = pd.DataFrame(data={\n",
    "        expiry: [metric_fn(results[expiry][delta]) for delta in call_delta_structure.keys()]\n",
    "        for expiry in results.keys()\n",
    "    }, index=pd.Index([delta for delta in call_delta_structure.keys()], name='Delta'))\n",
    "    return df\n",
    "\n",
    "\n",
    "def gain_fn(df):\n",
    "    return 1 - np.sum(np.square(df['ERROR_MV'])) / np.sum(np.square(df['ERROR_BS']))\n",
    "\n",
    "\n",
    "def r2(df):\n",
    "    return r2_score(df['Y'], df['Y_HAT'])\n",
    "\n",
    "\n",
    "def rmse(df):\n",
    "    return np.sqrt(mean_squared_error(df['Y'], df['Y_HAT']))\n",
    "\n",
    "\n",
    "_gain = get_results_table(gain_fn, results)\n",
    "_r2 = get_results_table(r2, results)\n",
    "_rmse = get_results_table(rmse, results)"
   ]
  },
  {
   "cell_type": "code",
   "execution_count": null,
   "metadata": {},
   "outputs": [],
   "source": [
    "_gain"
   ]
  },
  {
   "cell_type": "code",
   "execution_count": null,
   "metadata": {},
   "outputs": [],
   "source": [
    "_r2"
   ]
  },
  {
   "cell_type": "code",
   "execution_count": null,
   "metadata": {},
   "outputs": [],
   "source": [
    "_rmse"
   ]
  }
 ],
 "metadata": {
  "kernelspec": {
   "display_name": ".venv",
   "language": "python",
   "name": "python3"
  },
  "language_info": {
   "codemirror_mode": {
    "name": "ipython",
    "version": 3
   },
   "file_extension": ".py",
   "mimetype": "text/x-python",
   "name": "python",
   "nbconvert_exporter": "python",
   "pygments_lexer": "ipython3",
   "version": "3.8.2"
  }
 },
 "nbformat": 4,
 "nbformat_minor": 2
}
