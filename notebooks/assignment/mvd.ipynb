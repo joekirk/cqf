{
 "cells": [
  {
   "cell_type": "code",
   "execution_count": 1,
   "metadata": {},
   "outputs": [],
   "source": [
    "import numpy as np\n",
    "import pandas as pd\n",
    "\n",
    "from collections import defaultdict\n",
    "from datetime import datetime as dt\n",
    "\n",
    "from src.minimum_variance_delta import MinimumVarianceDelta, MinMax\n",
    "from src.black_scholes import CallPut\n",
    "from src.data import clear_cache"
   ]
  },
  {
   "cell_type": "code",
   "execution_count": 2,
   "metadata": {},
   "outputs": [],
   "source": [
    "start_date = dt(2023, 1, 1)\n",
    "end_date = dt(2023, 12, 31)\n",
    "\n",
    "mvd = MinimumVarianceDelta(\n",
    "    min_delta=0.35, \n",
    "    max_delta=0.45, \n",
    "    min_dte=15, \n",
    "    max_dte=45, \n",
    "    call_put=CallPut.CALL, \n",
    "    start_date=start_date, \n",
    "    end_date=end_date\n",
    ")"
   ]
  },
  {
   "cell_type": "code",
   "execution_count": 6,
   "metadata": {},
   "outputs": [
    {
     "data": {
      "text/plain": [
       "2023-01-04   -4.051637\n",
       "2023-01-04   -4.754317\n",
       "2023-01-04   -2.563441\n",
       "2023-01-04   -4.372663\n",
       "2023-01-04   -2.538304\n",
       "                ...   \n",
       "2023-12-28   -2.551189\n",
       "2023-12-28   -2.641692\n",
       "2023-12-28   -2.854782\n",
       "2023-12-28   -3.393196\n",
       "2023-12-28   -3.157528\n",
       "Length: 15354, dtype: float64"
      ]
     },
     "execution_count": 6,
     "metadata": {},
     "output_type": "execute_result"
    }
   ],
   "source": [
    "coef = mvd.fit(rolling_window_size=None)\n",
    "df = mvd.results_df(coefficients=coef)\n",
    "y = mvd.y\n",
    "y_hat = df['Y_HAT']"
   ]
  },
  {
   "cell_type": "code",
   "execution_count": 5,
   "metadata": {},
   "outputs": [
    {
     "ename": "TypeError",
     "evalue": "results_df() missing 1 required positional argument: 'coefficients'",
     "output_type": "error",
     "traceback": [
      "\u001b[0;31m---------------------------------------------------------------------------\u001b[0m",
      "\u001b[0;31mTypeError\u001b[0m                                 Traceback (most recent call last)",
      "Cell \u001b[0;32mIn[5], line 1\u001b[0m\n\u001b[0;32m----> 1\u001b[0m \u001b[43mmvd\u001b[49m\u001b[38;5;241;43m.\u001b[39;49m\u001b[43mresults_df\u001b[49m\u001b[43m(\u001b[49m\u001b[43m)\u001b[49m\n",
      "\u001b[0;31mTypeError\u001b[0m: results_df() missing 1 required positional argument: 'coefficients'"
     ]
    }
   ],
   "source": [
    "mvd.results_df()"
   ]
  },
  {
   "cell_type": "code",
   "execution_count": null,
   "metadata": {},
   "outputs": [],
   "source": [
    "start_date = dt(2023, 1, 1)\n",
    "end_date = dt(2023, 12, 31)\n",
    "\n",
    "# DTE buckets\n",
    "\n",
    "# 15  -  45 days => 1 Month\n",
    "# 65  - 105 days => 3 Months\n",
    "# 165 - 195 days => 6 Months\n",
    "# 240 - 300 days => 9 Months\n",
    "# 335 - 395 days => 12 Months\n",
    "\n",
    "# Delta buckets\n",
    "\n",
    "\n",
    "\n",
    "call_delta_structure = {\n",
    "    '10': MinMax(0.05, 0.15),\n",
    "    '20': MinMax(0.15, 0.25),\n",
    "    '30': MinMax(0.25, 0.35),\n",
    "    '40': MinMax(0.35, 0.45),\n",
    "    '50': MinMax(0.45, 0.55),\n",
    "    '60': MinMax(0.55, 0.65),\n",
    "    '70': MinMax(0.65, 0.75),\n",
    "    '80': MinMax(0.75, 0.85),\n",
    "    '90': MinMax(0.85, 0.95),\n",
    "}\n",
    "\n",
    "put_delta_structure = {\n",
    "    '-10': MinMax(-0.15, -0.05),\n",
    "    '-20': MinMax(-0.25, -0.15),\n",
    "    '-30': MinMax(-0.35, -0.25),\n",
    "    '-40': MinMax(-0.45, -0.35),\n",
    "    '-50': MinMax(-0.55, -0.45),\n",
    "    '-60': MinMax(-0.65, -0.55),\n",
    "    '-70': MinMax(-0.75, -0.65),\n",
    "    '-80': MinMax(-0.85, -0.75),\n",
    "    '-90': MinMax(-0.95, -0.85),\n",
    "}"
   ]
  },
  {
   "cell_type": "code",
   "execution_count": null,
   "metadata": {},
   "outputs": [],
   "source": [
    "results = defaultdict(lambda: defaultdict(dict))\n",
    "for term, (min_dte, max_dte) in term_structure.items():\n",
    "    for delta, (min_delta, max_delta) in call_delta_structure.items():\n",
    "        mvd = MVD(\n",
    "            min_delta=min_delta, \n",
    "            max_delta=max_delta, \n",
    "            min_dte=min_dte, \n",
    "            max_dte=max_dte, \n",
    "            call_put=CallPut.CALL, \n",
    "            start_date=start_date, \n",
    "            end_date=end_date\n",
    "        )\n",
    "        results[term][delta] = mvd\n",
    "    \n",
    "    # For small machines (such as my laptop), it is recommended to clear the cache. We load call deltas first, then put deltas.\n",
    "    # clear_cache()\n",
    "    for delta, (min_delta, max_delta) in put_delta_structure.items():\n",
    "        mvd = MVD(\n",
    "            min_delta=min_delta, \n",
    "            max_delta=max_delta, \n",
    "            min_dte=min_dte, \n",
    "            max_dte=max_dte, \n",
    "            call_put=CallPut.PUT, \n",
    "            start_date=start_date, \n",
    "            end_date=end_date\n",
    "        )\n",
    "        results[term][delta] = mvd"
   ]
  },
  {
   "cell_type": "code",
   "execution_count": null,
   "metadata": {},
   "outputs": [],
   "source": [
    "results['1M']['50'].df()[['EIV', 'DELTA']].plot.scatter(x='DELTA', y='EIV')"
   ]
  },
  {
   "cell_type": "code",
   "execution_count": null,
   "metadata": {},
   "outputs": [],
   "source": [
    "# lets look at 1M\n",
    "_data = results['1M']\n",
    "df = pd.concat([_data[k].df(['EIV', 'DELTA']) for k in _data.keys()])\n",
    "df.plot.scatter(x='DELTA', y='EIV')"
   ]
  },
  {
   "cell_type": "code",
   "execution_count": null,
   "metadata": {},
   "outputs": [],
   "source": [
    "def _eiv(mvd):\n",
    "    return mvd.df()['EIV'].mean()\n",
    "\n",
    "x = sorted(call_delta_structure.keys() + put_delta_structure.keys())\n",
    "\n",
    "fig, axes = plt.subplots(len(term_structure), len(x), figsize=(12, 12))\n",
    "\n",
    "for i, ax in enumerate(axes.flat):\n",
    "    term = x[i]\n",
    "    y_values = [_eiv(results[term][k]) for k in x]\n",
    "    ax.plot(x, y_values)\n",
    "    ax.set_xlabel('x')\n",
    "    ax.set_ylabel('y')\n",
    "    ax.set_title(f'Plot of x against y for term {term}')\n",
    "\n",
    "plt.tight_layout()\n",
    "plt.show()\n",
    "\n",
    "x = sorted(list(results['1M'].keys()))\n",
    "y = [_eiv(results['1M'][k]) for k in x]\n",
    "\n",
    "import matplotlib.pyplot as plt\n",
    "\n",
    "plt.plot(x, y)\n",
    "plt.xlabel('x')\n",
    "plt.ylabel('y')\n",
    "plt.title('Plot of x against y')\n",
    "plt.show()"
   ]
  },
  {
   "cell_type": "code",
   "execution_count": null,
   "metadata": {},
   "outputs": [],
   "source": [
    "deltas = np.arange(-1, 1, 0.1)\n"
   ]
  },
  {
   "cell_type": "code",
   "execution_count": null,
   "metadata": {},
   "outputs": [],
   "source": [
    "deltas"
   ]
  },
  {
   "cell_type": "code",
   "execution_count": null,
   "metadata": {},
   "outputs": [],
   "source": []
  }
 ],
 "metadata": {
  "kernelspec": {
   "display_name": ".venv",
   "language": "python",
   "name": "python3"
  },
  "language_info": {
   "codemirror_mode": {
    "name": "ipython",
    "version": 3
   },
   "file_extension": ".py",
   "mimetype": "text/x-python",
   "name": "python",
   "nbconvert_exporter": "python",
   "pygments_lexer": "ipython3",
   "version": "3.8.2"
  }
 },
 "nbformat": 4,
 "nbformat_minor": 2
}
