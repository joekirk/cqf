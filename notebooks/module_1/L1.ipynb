{
 "cells": [
  {
   "cell_type": "code",
   "execution_count": 181,
   "metadata": {},
   "outputs": [],
   "source": [
    "import pandas as pd\n",
    "import numpy as np\n",
    "import os\n",
    "\n",
    "import matplotlib.pyplot as plt\n",
    "from scipy.stats import norm\n"
   ]
  },
  {
   "cell_type": "markdown",
   "metadata": {},
   "source": [
    "# CQF Lecture 1 Excercises\n",
    "### Random Behaviour of Assests"
   ]
  },
  {
   "cell_type": "code",
   "execution_count": 182,
   "metadata": {},
   "outputs": [],
   "source": [
    "data = os.path.relpath('CQF_Jan_24_M1L1_Excel-1.csv')\n",
    "df = pd.read_csv(data).set_index('Date')[['Close']]\n",
    "close = df.copy()\n",
    "df['1D'] = (close - close.shift(1)) / close.shift(1)\n",
    "df['2D'] = (close - close.shift(2)) / close.shift(2)\n",
    "df['5D'] = (close - close.shift(5)) / close.shift(5)"
   ]
  },
  {
   "cell_type": "markdown",
   "metadata": {},
   "source": [
    "#### Q1.\n",
    " Adjust the standard deviation of the 5 and 2 day returns by the square root of time"
   ]
  },
  {
   "cell_type": "code",
   "execution_count": 183,
   "metadata": {},
   "outputs": [
    {
     "data": {
      "text/plain": [
       "1D    0.011965\n",
       "2D    0.016796\n",
       "5D    0.026144\n",
       "dtype: float64"
      ]
     },
     "execution_count": 183,
     "metadata": {},
     "output_type": "execute_result"
    }
   ],
   "source": [
    "sigma = df[['1D', '2D', '5D']].std()\n",
    "sigma\n"
   ]
  },
  {
   "cell_type": "code",
   "execution_count": 184,
   "metadata": {},
   "outputs": [
    {
     "data": {
      "text/plain": [
       "0.011691874038996188"
      ]
     },
     "execution_count": 184,
     "metadata": {},
     "output_type": "execute_result"
    }
   ],
   "source": [
    "sigma['5D'] / np.sqrt(5)"
   ]
  },
  {
   "cell_type": "code",
   "execution_count": 185,
   "metadata": {},
   "outputs": [
    {
     "data": {
      "text/plain": [
       "0.011876663783738679"
      ]
     },
     "execution_count": 185,
     "metadata": {},
     "output_type": "execute_result"
    }
   ],
   "source": [
    "sigma['2D'] / np.sqrt(2)"
   ]
  },
  {
   "cell_type": "markdown",
   "metadata": {},
   "source": [
    "#### Q2.\n",
    "Reshuffle the data into 2 halves and compute the standard deviation and mean of the each"
   ]
  },
  {
   "cell_type": "code",
   "execution_count": 186,
   "metadata": {},
   "outputs": [
    {
     "name": "stderr",
     "output_type": "stream",
     "text": [
      "/tmp/ipykernel_5971/656573242.py:2: SettingWithCopyWarning: \n",
      "A value is trying to be set on a copy of a slice from a DataFrame.\n",
      "Try using .loc[row_indexer,col_indexer] = value instead\n",
      "\n",
      "See the caveats in the documentation: https://pandas.pydata.org/pandas-docs/stable/user_guide/indexing.html#returning-a-view-versus-a-copy\n",
      "  h1['1D'] = (h1 - h1.shift(1)) / h1.shift(1)\n",
      "/tmp/ipykernel_5971/656573242.py:5: SettingWithCopyWarning: \n",
      "A value is trying to be set on a copy of a slice from a DataFrame.\n",
      "Try using .loc[row_indexer,col_indexer] = value instead\n",
      "\n",
      "See the caveats in the documentation: https://pandas.pydata.org/pandas-docs/stable/user_guide/indexing.html#returning-a-view-versus-a-copy\n",
      "  h2['1D'] = (h2 - h2.shift(1)) / h2.shift(1)\n"
     ]
    }
   ],
   "source": [
    "h1 = close.iloc[1::2]\n",
    "h1['1D'] = (h1 - h1.shift(1)) / h1.shift(1)\n",
    "\n",
    "h2 = close.iloc[::2]\n",
    "h2['1D'] = (h2 - h2.shift(1)) / h2.shift(1)\n",
    "\n"
   ]
  },
  {
   "cell_type": "code",
   "execution_count": 187,
   "metadata": {},
   "outputs": [
    {
     "data": {
      "text/plain": [
       "Close    610.879753\n",
       "1D         0.000611\n",
       "dtype: float64"
      ]
     },
     "execution_count": 187,
     "metadata": {},
     "output_type": "execute_result"
    }
   ],
   "source": [
    "h1.mean()"
   ]
  },
  {
   "cell_type": "code",
   "execution_count": 188,
   "metadata": {},
   "outputs": [
    {
     "data": {
      "text/plain": [
       "Close    978.756043\n",
       "1D         0.017036\n",
       "dtype: float64"
      ]
     },
     "execution_count": 188,
     "metadata": {},
     "output_type": "execute_result"
    }
   ],
   "source": [
    "h1.std()"
   ]
  },
  {
   "cell_type": "code",
   "execution_count": 189,
   "metadata": {},
   "outputs": [
    {
     "data": {
      "text/plain": [
       "Close    610.683253\n",
       "1D         0.000602\n",
       "dtype: float64"
      ]
     },
     "execution_count": 189,
     "metadata": {},
     "output_type": "execute_result"
    }
   ],
   "source": [
    "h2.mean()"
   ]
  },
  {
   "cell_type": "code",
   "execution_count": 190,
   "metadata": {},
   "outputs": [
    {
     "data": {
      "text/plain": [
       "Close    978.422023\n",
       "1D         0.016553\n",
       "dtype: float64"
      ]
     },
     "execution_count": 190,
     "metadata": {},
     "output_type": "execute_result"
    }
   ],
   "source": [
    "h2.std()"
   ]
  },
  {
   "cell_type": "markdown",
   "metadata": {},
   "source": [
    "#### Q3.\n",
    "Construct QQ plots for 1 day and 5 day returns\n",
    "\n",
    "Todo - what is a QQ plot?\n",
    "How do we interpret this"
   ]
  },
  {
   "cell_type": "code",
   "execution_count": 203,
   "metadata": {},
   "outputs": [
    {
     "name": "stderr",
     "output_type": "stream",
     "text": [
      "/tmp/ipykernel_5971/2106299707.py:5: SettingWithCopyWarning: \n",
      "A value is trying to be set on a copy of a slice from a DataFrame.\n",
      "Try using .loc[row_indexer,col_indexer] = value instead\n",
      "\n",
      "See the caveats in the documentation: https://pandas.pydata.org/pandas-docs/stable/user_guide/indexing.html#returning-a-view-versus-a-copy\n",
      "  qq[f'{days}D'] = np.log(qq['Close'] / qq['Close'].shift(days))\n",
      "/tmp/ipykernel_5971/2106299707.py:11: SettingWithCopyWarning: \n",
      "A value is trying to be set on a copy of a slice from a DataFrame.\n",
      "Try using .loc[row_indexer,col_indexer] = value instead\n",
      "\n",
      "See the caveats in the documentation: https://pandas.pydata.org/pandas-docs/stable/user_guide/indexing.html#returning-a-view-versus-a-copy\n",
      "  qq['Zscore'] = (qq[f'{days}D'] - mean_1d) / sigma_1d\n",
      "/tmp/ipykernel_5971/2106299707.py:12: SettingWithCopyWarning: \n",
      "A value is trying to be set on a copy of a slice from a DataFrame\n",
      "\n",
      "See the caveats in the documentation: https://pandas.pydata.org/pandas-docs/stable/user_guide/indexing.html#returning-a-view-versus-a-copy\n",
      "  qq.sort_values('Zscore', inplace=True)\n"
     ]
    }
   ],
   "source": [
    "def qq_df(days=1):\n",
    "    # lets do 1 day returns first\n",
    "    qq = df[['Close']]\n",
    "    # Assuming you have a DataFrame named 'df' with a column named 'Close' containing the closing prices\n",
    "    qq[f'{days}D'] = np.log(qq['Close'] / qq['Close'].shift(days))\n",
    "\n",
    "    mean_1d = qq[f'{days}D'].mean()\n",
    "    sigma_1d = qq[f'{days}D'].std()\n",
    "\n",
    "    Nobs = len(qq)\n",
    "    qq['Zscore'] = (qq[f'{days}D'] - mean_1d) / sigma_1d\n",
    "    qq.sort_values('Zscore', inplace=True)\n",
    "    qq['i'] = range(1, len(qq) + 1)\n",
    "    qq['i/N'] = qq['i'] / Nobs\n",
    "    qq['Standard'] = qq['i/N'].apply(norm.ppf)\n",
    "    qq = qq[1:-1]\n",
    "    return qq\n",
    "\n",
    "qq_1d = qq_df(days=1)\n",
    "qq_5d = qq_df(days=5)"
   ]
  },
  {
   "cell_type": "code",
   "execution_count": 204,
   "metadata": {},
   "outputs": [
    {
     "data": {
      "text/html": [
       "<div>\n",
       "<style scoped>\n",
       "    .dataframe tbody tr th:only-of-type {\n",
       "        vertical-align: middle;\n",
       "    }\n",
       "\n",
       "    .dataframe tbody tr th {\n",
       "        vertical-align: top;\n",
       "    }\n",
       "\n",
       "    .dataframe thead th {\n",
       "        text-align: right;\n",
       "    }\n",
       "</style>\n",
       "<table border=\"1\" class=\"dataframe\">\n",
       "  <thead>\n",
       "    <tr style=\"text-align: right;\">\n",
       "      <th></th>\n",
       "      <th>Close</th>\n",
       "      <th>1D</th>\n",
       "      <th>Zscore</th>\n",
       "      <th>i</th>\n",
       "      <th>i/N</th>\n",
       "      <th>Standard</th>\n",
       "    </tr>\n",
       "    <tr>\n",
       "      <th>Date</th>\n",
       "      <th></th>\n",
       "      <th></th>\n",
       "      <th></th>\n",
       "      <th></th>\n",
       "      <th></th>\n",
       "      <th></th>\n",
       "    </tr>\n",
       "  </thead>\n",
       "  <tbody>\n",
       "    <tr>\n",
       "      <th>28/10/1929</th>\n",
       "      <td>22.740000</td>\n",
       "      <td>-0.138576</td>\n",
       "      <td>-11.581281</td>\n",
       "      <td>2</td>\n",
       "      <td>0.000083</td>\n",
       "      <td>-3.766153</td>\n",
       "    </tr>\n",
       "    <tr>\n",
       "      <th>16/03/2020</th>\n",
       "      <td>2386.129883</td>\n",
       "      <td>-0.127652</td>\n",
       "      <td>-10.669882</td>\n",
       "      <td>3</td>\n",
       "      <td>0.000124</td>\n",
       "      <td>-3.663622</td>\n",
       "    </tr>\n",
       "    <tr>\n",
       "      <th>29/10/1929</th>\n",
       "      <td>20.430000</td>\n",
       "      <td>-0.107121</td>\n",
       "      <td>-8.956899</td>\n",
       "      <td>4</td>\n",
       "      <td>0.000166</td>\n",
       "      <td>-3.589302</td>\n",
       "    </tr>\n",
       "    <tr>\n",
       "      <th>16/04/1935</th>\n",
       "      <td>8.220000</td>\n",
       "      <td>-0.104995</td>\n",
       "      <td>-8.779553</td>\n",
       "      <td>5</td>\n",
       "      <td>0.000207</td>\n",
       "      <td>-3.530703</td>\n",
       "    </tr>\n",
       "    <tr>\n",
       "      <th>06/11/1929</th>\n",
       "      <td>20.610001</td>\n",
       "      <td>-0.104487</td>\n",
       "      <td>-8.737102</td>\n",
       "      <td>6</td>\n",
       "      <td>0.000249</td>\n",
       "      <td>-3.482181</td>\n",
       "    </tr>\n",
       "    <tr>\n",
       "      <th>...</th>\n",
       "      <td>...</td>\n",
       "      <td>...</td>\n",
       "      <td>...</td>\n",
       "      <td>...</td>\n",
       "      <td>...</td>\n",
       "      <td>...</td>\n",
       "    </tr>\n",
       "    <tr>\n",
       "      <th>21/09/1932</th>\n",
       "      <td>8.520000</td>\n",
       "      <td>0.111640</td>\n",
       "      <td>9.295103</td>\n",
       "      <td>24123</td>\n",
       "      <td>0.999793</td>\n",
       "      <td>3.530703</td>\n",
       "    </tr>\n",
       "    <tr>\n",
       "      <th>05/09/1939</th>\n",
       "      <td>12.640000</td>\n",
       "      <td>0.112064</td>\n",
       "      <td>9.330453</td>\n",
       "      <td>24124</td>\n",
       "      <td>0.999834</td>\n",
       "      <td>3.589302</td>\n",
       "    </tr>\n",
       "    <tr>\n",
       "      <th>06/10/1931</th>\n",
       "      <td>9.910000</td>\n",
       "      <td>0.116522</td>\n",
       "      <td>9.702468</td>\n",
       "      <td>24125</td>\n",
       "      <td>0.999876</td>\n",
       "      <td>3.663622</td>\n",
       "    </tr>\n",
       "    <tr>\n",
       "      <th>30/10/1929</th>\n",
       "      <td>22.990000</td>\n",
       "      <td>0.118055</td>\n",
       "      <td>9.830325</td>\n",
       "      <td>24126</td>\n",
       "      <td>0.999917</td>\n",
       "      <td>3.766153</td>\n",
       "    </tr>\n",
       "    <tr>\n",
       "      <th>15/03/1933</th>\n",
       "      <td>6.810000</td>\n",
       "      <td>0.153661</td>\n",
       "      <td>12.801092</td>\n",
       "      <td>24127</td>\n",
       "      <td>0.999959</td>\n",
       "      <td>3.935883</td>\n",
       "    </tr>\n",
       "  </tbody>\n",
       "</table>\n",
       "<p>24126 rows × 6 columns</p>\n",
       "</div>"
      ],
      "text/plain": [
       "                  Close        1D     Zscore      i       i/N  Standard\n",
       "Date                                                                   \n",
       "28/10/1929    22.740000 -0.138576 -11.581281      2  0.000083 -3.766153\n",
       "16/03/2020  2386.129883 -0.127652 -10.669882      3  0.000124 -3.663622\n",
       "29/10/1929    20.430000 -0.107121  -8.956899      4  0.000166 -3.589302\n",
       "16/04/1935     8.220000 -0.104995  -8.779553      5  0.000207 -3.530703\n",
       "06/11/1929    20.610001 -0.104487  -8.737102      6  0.000249 -3.482181\n",
       "...                 ...       ...        ...    ...       ...       ...\n",
       "21/09/1932     8.520000  0.111640   9.295103  24123  0.999793  3.530703\n",
       "05/09/1939    12.640000  0.112064   9.330453  24124  0.999834  3.589302\n",
       "06/10/1931     9.910000  0.116522   9.702468  24125  0.999876  3.663622\n",
       "30/10/1929    22.990000  0.118055   9.830325  24126  0.999917  3.766153\n",
       "15/03/1933     6.810000  0.153661  12.801092  24127  0.999959  3.935883\n",
       "\n",
       "[24126 rows x 6 columns]"
      ]
     },
     "execution_count": 204,
     "metadata": {},
     "output_type": "execute_result"
    }
   ],
   "source": [
    "qq_1d"
   ]
  },
  {
   "cell_type": "code",
   "execution_count": 231,
   "metadata": {},
   "outputs": [
    {
     "data": {
      "image/png": "[encoded data removed]",
      "text/plain": [
       "<Figure size 640x480 with 1 Axes>"
      ]
     },
     "metadata": {},
     "output_type": "display_data"
    }
   ],
   "source": [
    "plt.scatter(qq_5d['Standard'], qq_5d['Zscore'], label='5D')\n",
    "plt.scatter(qq_1d['Standard'], qq_1d['Zscore'], label='1D')\n",
    "plt.xlabel('Standard')\n",
    "plt.ylabel('Zscore')\n",
    "\n",
    "# Generate some data\n",
    "x = np.linspace(-4, 4, 100)\n",
    "y = x\n",
    "# Create the plot\n",
    "plt.plot(x, y, color='red', label='y=x')\n",
    "\n",
    "# Add legend\n",
    "plt.legend()\n",
    "\n",
    "# Show the plot\n",
    "plt.show()\n"
   ]
  },
  {
   "cell_type": "markdown",
   "metadata": {},
   "source": [
    "# Q4 \n",
    "Construct a histogram over historical returns scaled to z-scores and compare to Normal distribution density"
   ]
  },
  {
   "cell_type": "code",
   "execution_count": 213,
   "metadata": {},
   "outputs": [],
   "source": [
    "mean_1d = df['1D'].mean()\n",
    "sigma_1d = df['1D'].std()\n",
    "df['1DZ'] = (df['1D'] - mean_1d) / sigma_1d\n",
    "\n",
    "mean_2d = df['5D'].mean()\n",
    "sigma_2d = df['5D'].std()\n",
    "df['2DZ'] = (df['5D'] - mean_2d) / sigma_2d\n",
    "\n",
    "mean_5d = df['5D'].mean()\n",
    "sigma_5d = df['5D'].std()\n",
    "df['5DZ'] = (df['5D'] - mean_5d) / sigma_5d"
   ]
  },
  {
   "cell_type": "code",
   "execution_count": 230,
   "metadata": {},
   "outputs": [
    {
     "data": {
      "image/png": "[encoded data removed]",
      "text/plain": [
       "<Figure size 640x480 with 1 Axes>"
      ]
     },
     "metadata": {},
     "output_type": "display_data"
    }
   ],
   "source": [
    "import numpy as np\n",
    "import matplotlib.pyplot as plt\n",
    "from scipy import stats\n",
    "\n",
    "data = df['1DZ'][1:-1]\n",
    "\n",
    "N = len(data)\n",
    "num_bins = 500\n",
    "plt.hist(data, bins=num_bins, facecolor='blue', alpha=0.5)\n",
    "\n",
    "y = np.linspace(-4, 4, 1000)\n",
    "bin_width = (data.max() - data.min()) / num_bins\n",
    "plt.xlim(-4, 4)\n",
    "plt.xlabel('Zscore')\n",
    "plt.ylabel('Frequency')\n",
    "plt.plot(y, stats.norm.pdf(y) * N * bin_width)\n",
    "\n",
    "plt.show()"
   ]
  }
 ],
 "metadata": {
  "kernelspec": {
   "display_name": "env",
   "language": "python",
   "name": "python3"
  },
  "language_info": {
   "codemirror_mode": {
    "name": "ipython",
    "version": 3
   },
   "file_extension": ".py",
   "mimetype": "text/x-python",
   "name": "python",
   "nbconvert_exporter": "python",
   "pygments_lexer": "ipython3",
   "version": "3.8.2"
  }
 },
 "nbformat": 4,
 "nbformat_minor": 2
}
